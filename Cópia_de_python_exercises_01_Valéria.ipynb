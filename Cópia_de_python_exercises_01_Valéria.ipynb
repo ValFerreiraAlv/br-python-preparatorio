{
  "nbformat": 4,
  "nbformat_minor": 0,
  "metadata": {
    "colab": {
      "name": "Cópia de python_exercises_01_Valéria.ipynb",
      "provenance": [],
      "collapsed_sections": [],
      "include_colab_link": true
    },
    "kernelspec": {
      "name": "python3",
      "display_name": "Python 3"
    }
  },
  "cells": [
    {
      "cell_type": "markdown",
      "metadata": {
        "id": "view-in-github",
        "colab_type": "text"
      },
      "source": [
        "<a href=\"https://colab.research.google.com/github/ValFerreiraAlv/br-python-preparatorio/blob/master/C%C3%B3pia_de_python_exercises_01_Val%C3%A9ria.ipynb\" target=\"_parent\"><img src=\"https://colab.research.google.com/assets/colab-badge.svg\" alt=\"Open In Colab\"/></a>"
      ]
    },
    {
      "cell_type": "markdown",
      "metadata": {
        "id": "8YqaSZgXYJ5g",
        "colab_type": "text"
      },
      "source": [
        "![](https://i.imgur.com/YX6UATs.png)\n"
      ]
    },
    {
      "cell_type": "markdown",
      "metadata": {
        "id": "hhUVzDipaGb9",
        "colab_type": "text"
      },
      "source": [
        "### **Exercícios de Python - 1** \n",
        "\n",
        "\n",
        "\n"
      ]
    },
    {
      "cell_type": "markdown",
      "metadata": {
        "id": "7O6AZt8-aGlr",
        "colab_type": "text"
      },
      "source": [
        "1 - Faça um Programa que peça dois números e imprima a soma.\n"
      ]
    },
    {
      "cell_type": "code",
      "metadata": {
        "id": "rNsc8MezsLcQ",
        "colab_type": "code",
        "colab": {}
      },
      "source": [
        "def soma_venda_mensal():\n",
        "  venda_1 = int(input('Qual a sua venda primeira quinzena? '))\n",
        "  venda_2 = int(input('Qual a sua venda segunda quinzena? '))\n",
        "  soma = (venda_1)+(venda_2)\n",
        "  return f'Olá, você recebera {soma} relativo as suas vendas!'"
      ],
      "execution_count": 6,
      "outputs": []
    },
    {
      "cell_type": "code",
      "metadata": {
        "id": "zDHj_K5Wt18v",
        "colab_type": "code",
        "colab": {
          "base_uri": "https://localhost:8080/",
          "height": 69
        },
        "outputId": "44df5433-c64a-4bd4-ed00-d38152fc61c4"
      },
      "source": [
        "soma_venda_mensal()"
      ],
      "execution_count": 7,
      "outputs": [
        {
          "output_type": "stream",
          "text": [
            "Qual a sua venda primeira quinzena? 10\n",
            "Qual a sua venda segunda quinzena? 10\n"
          ],
          "name": "stdout"
        },
        {
          "output_type": "execute_result",
          "data": {
            "application/vnd.google.colaboratory.intrinsic+json": {
              "type": "string"
            },
            "text/plain": [
              "'Olá, você recebera 20 relativo as suas vendas!'"
            ]
          },
          "metadata": {
            "tags": []
          },
          "execution_count": 7
        }
      ]
    },
    {
      "cell_type": "markdown",
      "metadata": {
        "id": "c62cM2VlKFqN",
        "colab_type": "text"
      },
      "source": [
        "2 - Faça uma função que informe a quantidade de dígitos de um determinado número inteiro informado."
      ]
    },
    {
      "cell_type": "code",
      "metadata": {
        "id": "vR_Y9DbVenJB",
        "colab_type": "code",
        "colab": {
          "base_uri": "https://localhost:8080/",
          "height": 51
        },
        "outputId": "0cd4b37b-7e0f-4d54-9375-45f11a36d769"
      },
      "source": [
        "def quantidade_digitos_1(n):\n",
        "    return len(str(n))\n",
        "   \n",
        "n = int(input('digite o numero: '))\n",
        "quantidade_digitos_1(n)\n"
      ],
      "execution_count": 9,
      "outputs": [
        {
          "output_type": "stream",
          "text": [
            "digite o numero: 22\n"
          ],
          "name": "stdout"
        },
        {
          "output_type": "execute_result",
          "data": {
            "text/plain": [
              "2"
            ]
          },
          "metadata": {
            "tags": []
          },
          "execution_count": 9
        }
      ]
    },
    {
      "cell_type": "markdown",
      "metadata": {
        "id": "qMGp-h8OaGqr",
        "colab_type": "text"
      },
      "source": [
        "3 - Faça um programa, com uma função que necessite de três argumentos, e que forneça a soma desses três argumentos."
      ]
    },
    {
      "cell_type": "code",
      "metadata": {
        "id": "kTg-D89NdCld",
        "colab_type": "code",
        "colab": {
          "base_uri": "https://localhost:8080/",
          "height": 102
        },
        "outputId": "894c97b9-9e89-40aa-e365-50a814db6a67"
      },
      "source": [
        "def soma_tres_argumentos(a1, a2, a3):\n",
        "  soma = a1 +a2 +a3\n",
        "  return soma\n",
        "\n",
        "print('soma três argumentos')\n",
        "a1 = int(input('primeiro argumento: '))\n",
        "a2 = int(input('segundo argumento: '))\n",
        "a3 = int(input('terceiro argumento: '))\n",
        "\n",
        "print('soma =', soma_tres_argumentos(a1, a2, a3))"
      ],
      "execution_count": null,
      "outputs": [
        {
          "output_type": "stream",
          "text": [
            "soma três argumentos\n",
            "primeiro argumento: 12\n",
            "segundo argumento: 14\n",
            "terceiro argumento: 16\n",
            "soma = 42\n"
          ],
          "name": "stdout"
        }
      ]
    },
    {
      "cell_type": "markdown",
      "metadata": {
        "id": "KdLXZftIaG60",
        "colab_type": "text"
      },
      "source": [
        "4 - Faça um Programa que peça a temperatura em graus Celsius, transforme e mostre em graus Fahrenheit. \\\n",
        "*Dica: procure a fórmula para essa conversão na internet*"
      ]
    },
    {
      "cell_type": "code",
      "metadata": {
        "id": "YRceeg3OaQEK",
        "colab_type": "code",
        "colab": {
          "base_uri": "https://localhost:8080/",
          "height": 51
        },
        "outputId": "771c8671-250f-4e19-8c40-c3ebf2c340f8"
      },
      "source": [
        "C = float(input('digite a temperatura em C:'))\n",
        "F = 9 * C / 5 + 32\n",
        "print('A temperatura é '+str (C)+' corresponde a '+str (F)+' F!')"
      ],
      "execution_count": 13,
      "outputs": [
        {
          "output_type": "stream",
          "text": [
            "digite a temperatura em C:12\n",
            "A temperatura é 12.0 corresponde a 53.6 F!\n"
          ],
          "name": "stdout"
        }
      ]
    },
    {
      "cell_type": "markdown",
      "metadata": {
        "id": "FTK9nE4pdB1D",
        "colab_type": "text"
      },
      "source": [
        "5 - Faça um Programa que pergunte quanto você ganha por hora e o número de horas trabalhadas no mês. Calcule e mostre o total do seu salário no referido mês.\n"
      ]
    },
    {
      "cell_type": "code",
      "metadata": {
        "id": "1-w2u_eLRpU9",
        "colab_type": "code",
        "colab": {
          "base_uri": "https://localhost:8080/",
          "height": 68
        },
        "outputId": "30bab5f9-2df8-4af6-dd68-136622d6038b"
      },
      "source": [
        "salario = float (input('Qual o seu salario por hora trabalhada:'))\n",
        "horas = float (input('Quantas horas voce trabalha por mes:'))\n",
        "mensal = (salario)*(horas)\n",
        "print ('O seu salario no referido mes é de:' ,mensal)"
      ],
      "execution_count": null,
      "outputs": [
        {
          "output_type": "stream",
          "text": [
            "Qual o seu salario por hora trabalhada:150\n",
            "Quantas horas voce trabalha por mes:30\n",
            "O seu salario no referido mes é de: 4500.0\n"
          ],
          "name": "stdout"
        }
      ]
    },
    {
      "cell_type": "markdown",
      "metadata": {
        "id": "_HbJNv8MaG4g",
        "colab_type": "text"
      },
      "source": [
        "6 - Faça um programa para uma loja de tintas. O programa deverá pedir o tamanho em metros quadrados da área a ser pintada. Considere que a cobertura da tinta é de 1 litro para cada 3 metros quadrados e que a tinta é vendida em latas de 18 litros, que custam R$ 80,00. Informe ao usuário a quantidades de latas de tinta a serem compradas e o preço total."
      ]
    },
    {
      "cell_type": "code",
      "metadata": {
        "id": "LJDxmAbJeO9V",
        "colab_type": "code",
        "colab": {
          "base_uri": "https://localhost:8080/",
          "height": 68
        },
        "outputId": "0c8dac24-df62-44b5-d6f3-f67b60e000bd"
      },
      "source": [
        "metros = int(input('Informe em metros quadrados a area a ser pintada: '))\n",
        "litros = metros/3\n",
        "\n",
        "precoL = 80.0\n",
        "capacidadeL = 18\n",
        "\n",
        "latas = litros / capacidadeL\n",
        "total = latas * precoL\n",
        "\n",
        "print ('Você usara ',latas,'latas de tinta')\n",
        "print ('O preco total será de: R$', total)"
      ],
      "execution_count": 17,
      "outputs": [
        {
          "output_type": "stream",
          "text": [
            "Informe em metros quadrados a area a ser pintada: 48\n",
            "Você usara  0.8888888888888888 latas de tinta\n",
            "O preco total será de: R$ 71.11111111111111\n"
          ],
          "name": "stdout"
        }
      ]
    },
    {
      "cell_type": "markdown",
      "metadata": {
        "id": "0tkhm6EUaG1u",
        "colab_type": "text"
      },
      "source": [
        "7 - Faça um programa para a leitura de duas notas parciais de um aluno. O programa deve calcular a média alcançada por aluno e apresentar:\n",
        "- A mensagem \"Aprovado\", se a média alcançada for maior ou igual a sete;\n",
        "- A mensagem \"Reprovado\", se a média for menor do que sete;\n",
        "- A mensagem \"Aprovado com Distinção\", se a média for igual a dez."
      ]
    },
    {
      "cell_type": "code",
      "metadata": {
        "id": "MNINJ32eU45M",
        "colab_type": "code",
        "colab": {
          "base_uri": "https://localhost:8080/",
          "height": 68
        },
        "outputId": "f52d5404-d1aa-4419-e9e5-f4a2bc4591b2"
      },
      "source": [
        "n1 = int(input('Digite sua primeira nota: '))\n",
        "n2 = int(input('Digite sua segunda nota: '))\n",
        "media = (n1 + n2) / 2\n",
        "if media == 10:\n",
        "    print ('Voce foi aprovado com Distinção!!')\n",
        "elif media >= 7 and media <10:\n",
        "    print ('Voce foi aprovado!!')\n",
        "else:\n",
        "    print ('Infelizmente você foi reprovado')"
      ],
      "execution_count": null,
      "outputs": [
        {
          "output_type": "stream",
          "text": [
            "Digite sua primeira nota: 10\n",
            "Digite sua segunda nota: 5\n",
            "Voce foi aprovado!!\n"
          ],
          "name": "stdout"
        }
      ]
    },
    {
      "cell_type": "markdown",
      "metadata": {
        "id": "4OETBVgmaGzX",
        "colab_type": "text"
      },
      "source": [
        "8 - Faça um Programa que peça um número inteiro e determine se ele é par ou impar. Dica: utilize o operador módulo (resto da divisão)."
      ]
    },
    {
      "cell_type": "code",
      "metadata": {
        "id": "WbzCimFZVSr1",
        "colab_type": "code",
        "colab": {
          "base_uri": "https://localhost:8080/",
          "height": 51
        },
        "outputId": "d2b398b4-4d2c-4a1e-94f7-51b559228a05"
      },
      "source": [
        "numero = int(input('Digite um inteiro: '))\n",
        "if numero%2 :\n",
        "      print('impar')\n",
        "else:\n",
        "      print('par')\n"
      ],
      "execution_count": null,
      "outputs": [
        {
          "output_type": "stream",
          "text": [
            "Digite um inteiro: 415\n",
            "impar\n"
          ],
          "name": "stdout"
        }
      ]
    },
    {
      "cell_type": "markdown",
      "metadata": {
        "id": "7zPJ8sgPaGw0",
        "colab_type": "text"
      },
      "source": [
        "9 - Faça um programa que peça o tamanho de um arquivo para download (em MB) e a velocidade de um link de Internet (em Mbps), calcule e informe o tempo aproximado de download do arquivo usando este link (em minutos)."
      ]
    },
    {
      "cell_type": "code",
      "metadata": {
        "id": "l4qtSxU7XquB",
        "colab_type": "code",
        "colab": {}
      },
      "source": [
        "def tempo_download():                #resolvido em aula\n",
        "  tamanho = float(input('Qual o tamanho do arquivo?'))*8\n",
        "  velocidade = float(input('Qual a velocidade da internet (em Mbps)?'))\n",
        "  t_sec = tamanho/velocidade\n",
        "  t_min = round(t_sec/60,2)\n",
        "  return f'Seu download demorará {t_min} minutos'\n",
        "\n"
      ],
      "execution_count": null,
      "outputs": []
    },
    {
      "cell_type": "code",
      "metadata": {
        "id": "w_k4kZgJJR5R",
        "colab_type": "code",
        "colab": {
          "base_uri": "https://localhost:8080/",
          "height": 69
        },
        "outputId": "d38d7f7a-9b85-4839-fa6b-3a4481294426"
      },
      "source": [
        "tempo_download()"
      ],
      "execution_count": null,
      "outputs": [
        {
          "output_type": "stream",
          "text": [
            "Qual o tamanho do arquivo?500\n",
            "Qual a velocidade da internet (em Mbps)?20\n"
          ],
          "name": "stdout"
        },
        {
          "output_type": "execute_result",
          "data": {
            "application/vnd.google.colaboratory.intrinsic+json": {
              "type": "string"
            },
            "text/plain": [
              "'Seu download demorará 3.33 minutos'"
            ]
          },
          "metadata": {
            "tags": []
          },
          "execution_count": 9
        }
      ]
    },
    {
      "cell_type": "code",
      "metadata": {
        "id": "CaIJ-GvkJrDp",
        "colab_type": "code",
        "colab": {
          "base_uri": "https://localhost:8080/",
          "height": 34
        },
        "outputId": "98cc07e3-6d0c-452b-a107-09136f991c80"
      },
      "source": [
        "Stack Overflow"
      ],
      "execution_count": null,
      "outputs": [
        {
          "output_type": "execute_result",
          "data": {
            "text/plain": [
              "0"
            ]
          },
          "metadata": {
            "tags": []
          },
          "execution_count": 7
        }
      ]
    },
    {
      "cell_type": "code",
      "metadata": {
        "id": "byBtrLpIMZPx",
        "colab_type": "code",
        "colab": {}
      },
      "source": [
        "num =5.67"
      ],
      "execution_count": null,
      "outputs": []
    },
    {
      "cell_type": "code",
      "metadata": {
        "id": "M2Y6DkXWMeQY",
        "colab_type": "code",
        "colab": {
          "base_uri": "https://localhost:8080/",
          "height": 35
        },
        "outputId": "d8b6bfc9-c656-4494-dca7-c0d303892389"
      },
      "source": [
        "str_num = str(num)\n",
        "str_num"
      ],
      "execution_count": null,
      "outputs": [
        {
          "output_type": "execute_result",
          "data": {
            "application/vnd.google.colaboratory.intrinsic+json": {
              "type": "string"
            },
            "text/plain": [
              "'5.67'"
            ]
          },
          "metadata": {
            "tags": []
          },
          "execution_count": 12
        }
      ]
    },
    {
      "cell_type": "code",
      "metadata": {
        "id": "29rrpMKtMm_x",
        "colab_type": "code",
        "colab": {
          "base_uri": "https://localhost:8080/",
          "height": 34
        },
        "outputId": "37e7856e-3437-47a2-e851-bf63348a7782"
      },
      "source": [
        "quebra = str_num.split('.')\n",
        "quebra"
      ],
      "execution_count": null,
      "outputs": [
        {
          "output_type": "execute_result",
          "data": {
            "text/plain": [
              "['5', '67']"
            ]
          },
          "metadata": {
            "tags": []
          },
          "execution_count": 14
        }
      ]
    },
    {
      "cell_type": "code",
      "metadata": {
        "id": "dTf9u_47Mxh3",
        "colab_type": "code",
        "colab": {
          "base_uri": "https://localhost:8080/",
          "height": 35
        },
        "outputId": "352700b7-8676-4edf-99b3-54f606136124"
      },
      "source": [
        "decimal = quebra[1]\n",
        "decimal"
      ],
      "execution_count": null,
      "outputs": [
        {
          "output_type": "execute_result",
          "data": {
            "application/vnd.google.colaboratory.intrinsic+json": {
              "type": "string"
            },
            "text/plain": [
              "'67'"
            ]
          },
          "metadata": {
            "tags": []
          },
          "execution_count": 15
        }
      ]
    },
    {
      "cell_type": "code",
      "metadata": {
        "id": "4VNPAyUnM8Pv",
        "colab_type": "code",
        "colab": {
          "base_uri": "https://localhost:8080/",
          "height": 34
        },
        "outputId": "5200534f-cde6-4c84-b407-b938b63a14ca"
      },
      "source": [
        "numero_final = int(decimal)\n",
        "numero_final"
      ],
      "execution_count": null,
      "outputs": [
        {
          "output_type": "execute_result",
          "data": {
            "text/plain": [
              "67"
            ]
          },
          "metadata": {
            "tags": []
          },
          "execution_count": 17
        }
      ]
    },
    {
      "cell_type": "code",
      "metadata": {
        "id": "dcdJdvLtNEXw",
        "colab_type": "code",
        "colab": {
          "base_uri": "https://localhost:8080/",
          "height": 34
        },
        "outputId": "58429363-65ba-435c-f156-c22213c82661"
      },
      "source": [
        "int((str(5.67)).split('.')[1])"
      ],
      "execution_count": null,
      "outputs": [
        {
          "output_type": "execute_result",
          "data": {
            "text/plain": [
              "67"
            ]
          },
          "metadata": {
            "tags": []
          },
          "execution_count": 19
        }
      ]
    },
    {
      "cell_type": "markdown",
      "metadata": {
        "id": "Lm1tOKThnU42",
        "colab_type": "text"
      },
      "source": [
        "Exercícios adaptados de Python Brasil"
      ]
    }
  ]
}