{
  "nbformat": 4,
  "nbformat_minor": 0,
  "metadata": {
    "colab": {
      "name": "Python_exercises_02_Valéria.ipynb",
      "provenance": [],
      "collapsed_sections": [],
      "include_colab_link": true
    },
    "kernelspec": {
      "name": "python3",
      "display_name": "Python 3"
    }
  },
  "cells": [
    {
      "cell_type": "markdown",
      "metadata": {
        "id": "view-in-github",
        "colab_type": "text"
      },
      "source": [
        "<a href=\"https://colab.research.google.com/github/ValFerreiraAlv/br-python-preparatorio/blob/master/Python_exercises_02_Val%C3%A9ria.ipynb\" target=\"_parent\"><img src=\"https://colab.research.google.com/assets/colab-badge.svg\" alt=\"Open In Colab\"/></a>"
      ]
    },
    {
      "cell_type": "markdown",
      "metadata": {
        "id": "8YqaSZgXYJ5g"
      },
      "source": [
        "![](https://i.imgur.com/YX6UATs.png)\n"
      ]
    },
    {
      "cell_type": "markdown",
      "metadata": {
        "id": "hhUVzDipaGb9"
      },
      "source": [
        "### **Exercícios de Python - 2** \n",
        "\n",
        "\n",
        "\n"
      ]
    },
    {
      "cell_type": "markdown",
      "metadata": {
        "id": "7O6AZt8-aGlr"
      },
      "source": [
        "1 - Faça um programa, com uma função que necessite de um argumento. A função retorna o valor de caractere ‘P’, se seu argumento for positivo, e ‘N’, se seu argumento for zero ou negativo.\n"
      ]
    },
    {
      "cell_type": "code",
      "metadata": {
        "id": "ibipMzmZcfIF",
        "outputId": "78a3c7d2-dd6d-41d8-f158-f4bcfbb04e3c",
        "colab": {
          "base_uri": "https://localhost:8080/",
          "height": 52
        }
      },
      "source": [
        "def positivo_negativo(n):\n",
        "  if n > 0:\n",
        "    return f'P'\n",
        "  else:\n",
        "    return 'N'\n",
        "\n",
        "valor = int(input('Digite um valor '))\n",
        "\n",
        "positivo_negativo(valor)\n",
        "  "
      ],
      "execution_count": null,
      "outputs": [
        {
          "output_type": "stream",
          "text": [
            "Digite um valor 2\n"
          ],
          "name": "stdout"
        },
        {
          "output_type": "execute_result",
          "data": {
            "application/vnd.google.colaboratory.intrinsic+json": {
              "type": "string"
            },
            "text/plain": [
              "'P'"
            ]
          },
          "metadata": {
            "tags": []
          },
          "execution_count": 13
        }
      ]
    },
    {
      "cell_type": "markdown",
      "metadata": {
        "id": "c62cM2VlKFqN"
      },
      "source": [
        "2 - Faça um programa que leia um nome de usuário e a sua senha e não aceite a senha igual ao nome do usuário, mostrando uma mensagem de erro."
      ]
    },
    {
      "cell_type": "code",
      "metadata": {
        "id": "A3ajzaOSq69B",
        "outputId": "b895065e-2f80-4d5f-e853-7d9c42881ef8",
        "colab": {
          "base_uri": "https://localhost:8080/",
          "height": 69
        }
      },
      "source": [
        "def usuario_senha():\n",
        "  usuario = str(input('Digite seu usuario '))\n",
        "  senha = str(input('Digite sua senha '))\n",
        "  if usuario == senha:\n",
        "    return 'Senha incorreta' \n",
        "  else:\n",
        "    return 'Liberado'\n",
        "      \n",
        "usuario_senha()"
      ],
      "execution_count": null,
      "outputs": [
        {
          "output_type": "stream",
          "text": [
            "Digite seu usuario valeria\n",
            "Digite sua senha valeria\n"
          ],
          "name": "stdout"
        },
        {
          "output_type": "execute_result",
          "data": {
            "application/vnd.google.colaboratory.intrinsic+json": {
              "type": "string"
            },
            "text/plain": [
              "'Senha incorreta'"
            ]
          },
          "metadata": {
            "tags": []
          },
          "execution_count": 15
        }
      ]
    },
    {
      "cell_type": "markdown",
      "metadata": {
        "id": "KdLXZftIaG60"
      },
      "source": [
        "3 - Faça uma função cujo input é uma lista de números e que retorne a média e a mediana desses números sem a importação de módulos. \\\n",
        "*Dica: procure as fórmulas na internet, caso não se lembre*"
      ]
    },
    {
      "cell_type": "code",
      "metadata": {
        "id": "DoD3MyT_tKL5"
      },
      "source": [
        ""
      ],
      "execution_count": null,
      "outputs": []
    },
    {
      "cell_type": "markdown",
      "metadata": {
        "id": "qMGp-h8OaGqr"
      },
      "source": [
        "4 - Utilizando listas faça um programa que faça 5 perguntas para uma pessoa sobre um crime. As perguntas são:\n",
        "- \"Telefonou para a vítima?\"\n",
        "- \"Esteve no local do crime?\"\n",
        "- \"Mora perto da vítima?\"\n",
        "- \"Devia para a vítima?\"\n",
        "- \"Já trabalhou com a vítima?\" \\\n",
        "O programa deve no final emitir uma classificação sobre a participação da pessoa no crime. Se a pessoa responder positivamente a 2 questões ela deve ser classificada como \"Suspeita\", entre 3 e 4 como \"Cúmplice\" e 5 como \"Assassino\". Caso contrário, ele será classificado como \"Inocente\"."
      ]
    },
    {
      "cell_type": "code",
      "metadata": {
        "id": "kTg-D89NdCld"
      },
      "source": [
        ""
      ],
      "execution_count": null,
      "outputs": []
    },
    {
      "cell_type": "markdown",
      "metadata": {
        "id": "FTK9nE4pdB1D"
      },
      "source": [
        "5 - A lista abaixo possui nomes de alunos de uma classe. Crie um loop que imprima '{nome} é aluno da classe'\n"
      ]
    },
    {
      "cell_type": "code",
      "metadata": {
        "id": "nW4SbDxTmx4t"
      },
      "source": [
        "nomes =['Maria','João','Marcelo','Jonas','Laura','Luana']"
      ],
      "execution_count": null,
      "outputs": []
    },
    {
      "cell_type": "code",
      "metadata": {
        "id": "0sRr8MXCpbGP",
        "outputId": "4dfde4ea-13d3-4724-d10f-c649ebe61599",
        "colab": {
          "base_uri": "https://localhost:8080/",
          "height": 119
        }
      },
      "source": [
        "for nome in nomes:\n",
        "  print(f'{nome} está na lista')"
      ],
      "execution_count": null,
      "outputs": [
        {
          "output_type": "stream",
          "text": [
            "Maria está na lista\n",
            "João está na lista\n",
            "Marcelo está na lista\n",
            "Jonas está na lista\n",
            "Laura está na lista\n",
            "Luana está na lista\n"
          ],
          "name": "stdout"
        }
      ]
    },
    {
      "cell_type": "markdown",
      "metadata": {
        "id": "_HbJNv8MaG4g"
      },
      "source": [
        "6 - Utilizando-se da mesma lista trabalhada acima e a lista dada abaixo, que contem as idades dos alunos, realize um loop que faça a iteração com as duas listas printando \"{nome} tem {idade} anos\".\n",
        "Dica: utilize *zip*()"
      ]
    },
    {
      "cell_type": "code",
      "metadata": {
        "id": "LJDxmAbJeO9V"
      },
      "source": [
        "idades =[23,34,42,54,26,27]"
      ],
      "execution_count": null,
      "outputs": []
    },
    {
      "cell_type": "code",
      "metadata": {
        "id": "Kq1Lc7Ukps-V",
        "outputId": "c89ba642-cdc7-44ef-e478-dcda43c3dc4e",
        "colab": {
          "base_uri": "https://localhost:8080/",
          "height": 119
        }
      },
      "source": [
        "lista = zip(nomes,idades)\n",
        "for nome, idade in lista:\n",
        "  print(f'{nome} tem {idade} anos')"
      ],
      "execution_count": null,
      "outputs": [
        {
          "output_type": "stream",
          "text": [
            "Maria tem 23 anos\n",
            "João tem 34 anos\n",
            "Marcelo tem 42 anos\n",
            "Jonas tem 54 anos\n",
            "Laura tem 26 anos\n",
            "Luana tem 27 anos\n"
          ],
          "name": "stdout"
        }
      ]
    },
    {
      "cell_type": "markdown",
      "metadata": {
        "id": "0tkhm6EUaG1u"
      },
      "source": [
        "7 - Transforme as duas listas anteriores em um dicionário cuja chave é o nome e o valor é a idade."
      ]
    },
    {
      "cell_type": "code",
      "metadata": {
        "id": "4-cSonjLDrK6",
        "outputId": "f043a02a-1c06-4a5a-e252-f16427986840",
        "colab": {
          "base_uri": "https://localhost:8080/",
          "height": 51
        }
      },
      "source": [
        "nomes,idades"
      ],
      "execution_count": null,
      "outputs": [
        {
          "output_type": "execute_result",
          "data": {
            "text/plain": [
              "(['Maria', 'João', 'Marcelo', 'Jonas', 'Laura', 'Luana'],\n",
              " [23, 34, 42, 54, 26, 27])"
            ]
          },
          "metadata": {
            "tags": []
          },
          "execution_count": 75
        }
      ]
    },
    {
      "cell_type": "code",
      "metadata": {
        "id": "CWE6zo33DGLL"
      },
      "source": [
        "dicionario = {}\n",
        "for i in lista:\n",
        "  dicionario[i[0]]= {}\n",
        "  dicionario[i[0]]['nomes, idades']=i[1]\n",
        "\n"
      ],
      "execution_count": null,
      "outputs": []
    },
    {
      "cell_type": "code",
      "metadata": {
        "id": "NgejiezuDF_d"
      },
      "source": [
        ""
      ],
      "execution_count": null,
      "outputs": []
    }
  ]
}